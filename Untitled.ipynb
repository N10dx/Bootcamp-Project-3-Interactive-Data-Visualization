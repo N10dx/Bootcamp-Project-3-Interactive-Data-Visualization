{
 "cells": [
  {
   "cell_type": "code",
   "execution_count": null,
   "id": "ecb6d946",
   "metadata": {},
   "outputs": [],
   "source": [
    "app = JupyterDash(external_stylesheets=[dbc.themes.LUX])\n",
    "app.layout = dbc.Container([\n",
    "    html.H1(\"ا سعار الفلل الرياض\",style = {'text-align':'center' ,  'color': 'white', \"font\":\"Tahoma\"}),\n",
    "    dbc.Row([\n",
    "        dbc.Col([\n",
    "            dcc.Dropdown(id=\"dropdown\", options=[{'label': i, 'value': i} for i in df_rooms['location'].unique()], \n",
    "                         value=\"شمال الرياض\") # First graph\n",
    "            ]\n",
    "            , width=3, style={'background-color': 'navy'})]),\n",
    "        dbc.Row([\n",
    "            dbc.Col([dcc.Checklist(id=\"chck1\",options=[\"driverRoom\", \"tent\", \"elevator\", \"Pool\", \"maidRoom\", \"garage\", \"driverRoom\"])]),\n",
    "        dbc.Col([\n",
    "\n",
    "            dcc.Graph(id=\"bargraph2\") \n",
    "        ], width=4)])\n",
    "    \n",
    "], fluid=True, style={'background-color': 'navy'})\n",
    "\n",
    "\n",
    "@app.callback(\n",
    "    Output(\"bargraph2\", \"figure\"),\n",
    "    Input(\"dropdown\", \"value\")\n",
    "\n",
    ")\n",
    "def update_bargraph2(x):\n",
    "    filterd_data = dashboard_df[dashboard_df[\"location\"] == x].groupby(\"rooms\").mean().reset_index()\n",
    "    bar_chart= px.bar(filterd_data, x=\"rooms\", y=\"price\", title=f\"مقارنة اسعار الفلل في {x}\")\n",
    "    return bar_chart\n",
    "    return bar_chart\n",
    "app.run_server(port=8987)\n"
   ]
  }
 ],
 "metadata": {
  "kernelspec": {
   "display_name": "Python 3 (ipykernel)",
   "language": "python",
   "name": "python3"
  },
  "language_info": {
   "codemirror_mode": {
    "name": "ipython",
    "version": 3
   },
   "file_extension": ".py",
   "mimetype": "text/x-python",
   "name": "python",
   "nbconvert_exporter": "python",
   "pygments_lexer": "ipython3",
   "version": "3.11.3"
  }
 },
 "nbformat": 4,
 "nbformat_minor": 5
}
